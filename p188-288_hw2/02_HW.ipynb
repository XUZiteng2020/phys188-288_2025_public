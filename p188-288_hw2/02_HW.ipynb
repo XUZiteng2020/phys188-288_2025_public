{
 "cells": [
  {
   "cell_type": "code",
   "execution_count": null,
   "metadata": {
    "deletable": false,
    "editable": false
   },
   "outputs": [],
   "source": [
    "# Initialize Otter\n",
    "import otter\n",
    "grader = otter.Notebook(\"02_HW.ipynb\")"
   ]
  },
  {
   "cell_type": "code",
   "execution_count": null,
   "metadata": {},
   "outputs": [],
   "source": [
    "rng_seed = 42"
   ]
  },
  {
   "cell_type": "markdown",
   "metadata": {
    "id": "KcbWkLKjthiI"
   },
   "source": [
    "## Homework 2\n",
    "\n",
    "## <em>Bayesian Parameter Estimation</em>\n",
    "<br>\n",
    "This notebook is arranged in cells. Texts are usually written in the markdown cells, and here you can use html tags (make it bold, italic, colored, etc). You can double click on this cell to see the formatting.<br>\n",
    "<br>\n",
    "The ellipsis (...) are provided where you are expected to write your solution but feel free to change the template (not over much) in case this style is not to your taste. <br>\n",
    "<br>\n",
    "<em>Hit \"Shift-Enter\" on a code cell to evaluate it.  Double click a Markdown cell to edit. </em><br>"
   ]
  },
  {
   "cell_type": "markdown",
   "metadata": {
    "id": "aDqxKmga-545"
   },
   "source": [
    "***"
   ]
  },
  {
   "cell_type": "markdown",
   "metadata": {
    "id": "SvtrwINhthiQ"
   },
   "source": [
    "### Imports"
   ]
  },
  {
   "cell_type": "code",
   "execution_count": null,
   "metadata": {
    "id": "51w8iUPNthiQ"
   },
   "outputs": [],
   "source": [
    "# If the LaTeX is not showing up, run this cell then refresh the notebook page\n",
    "# !pip install jupyterlab-katex "
   ]
  },
  {
   "cell_type": "code",
   "execution_count": null,
   "metadata": {
    "id": "51w8iUPNthiQ"
   },
   "outputs": [],
   "source": [
    "import math\n",
    "import numpy as np\n",
    "from scipy.integrate import *\n",
    "from scipy.stats import binom\n",
    "#For plotting\n",
    "import matplotlib.pyplot as plt\n",
    "%matplotlib inline"
   ]
  },
  {
   "cell_type": "markdown",
   "metadata": {
    "editable": true,
    "id": "yY_ZFuG3thiR",
    "slideshow": {
     "slide_type": ""
    },
    "tags": []
   },
   "source": [
    "***"
   ]
  },
  {
   "attachments": {},
   "cell_type": "markdown",
   "metadata": {
    "id": "H8WQXcpRthiR"
   },
   "source": [
    "#### Problem 1 - Bayesian Parameter Estimation\n",
    "\n",
    "In the lecture we discussed Bayesian Parameter Estimation (BPE)<br>\n",
    "<br>\n",
    "$P(\\theta|D,I) = \\frac{P(D|\\theta, I)\\, P(\\theta,I)}{P(D,I)}$<br>\n",
    "<br>\n",
    "for estimating the parameter $\\theta$ based on a given likelihood function $P(D|\\theta, I)$. The above equation also includes the term $P(\\theta,I)$ expressing any prior information *I* we might have about $\\theta$."
   ]
  },
  {
   "cell_type": "markdown",
   "metadata": {
    "deletable": false,
    "editable": false,
    "id": "XmBXfvfHthiS"
   },
   "source": [
    "*\"What I can build. I do understand\"* (an inverse quote from Richard Feynman) motivates the following task:<br>\n",
    "<br>\n",
    "Write a python script similar to *bayesian_bino.py* from the lecture, that performs BPE for a Poissonian Process $\\theta = \\lambda$, where $D = \\left[x_1, x_2,..., x_i, ..., x_N\\right]$ with counts $x_i$ per observation (e.g. $x_i$ is the number of decays per second and we observe the system for $N$ seconds) and<br>\n",
    "\n",
    "\\begin{equation}\n",
    "P(x_i|\\lambda, I) = \\frac{\\lambda^{x_i}\\, e^{-\\lambda}}{x_i!}\n",
    "\\end{equation}\n",
    "\n",
    "You can use the script *bayesian_bino.py* from the lecture and modify it and/or recycle some of your codes from HW 01. The code is not written in the most pythonian way - feel free to improve it! Write your code such that one optional input argument is the prior. The code should also produce the corresponding plots.<br>\n",
    "<br>\n",
    "**Hint 1:** You might want to work with $log\\left[ P(\\theta|D,I) \\right]$ in order to reduce numerical inaccuracies.<br>\n",
    "**Hint 2:** Check your code via<br>"
   ]
  },
  {
   "cell_type": "code",
   "execution_count": null,
   "metadata": {
    "deletable": false,
    "editable": false,
    "id": "XmBXfvfHthiS"
   },
   "outputs": [],
   "source": [
    "\"\"\"\n",
    "lam   = 5\n",
    "n1    = 10\n",
    "data1 = np.random.poisson(lam, n1)\n",
    "[lamEst1, Posterior1] = bayesian_poiss(data1)\n",
    "print(lamEst1)\n",
    " \n",
    "n2 = 5\n",
    "data2 = np.random.poisson(lam, n2)\n",
    "[lamEst2, Posterior2] = bayesian_poiss(data2)\n",
    "print(lamEst2)\n",
    " \n",
    " \n",
    "[lamEst12, _] = bayesian_poiss(data2, Prior = Posterior1)\n",
    "print(lamEst12)\n",
    " \n",
    " \n",
    "[lamEst21, _] = bayesian_poiss(data1, Prior = Posterior2)\n",
    "print(lamEst21)\n",
    "\"\"\""
   ]
  },
  {
   "cell_type": "markdown",
   "metadata": {
    "deletable": false,
    "editable": false
   },
   "source": [
    "Where *lamEst21* and *lamEst12* should be equal within the numerical accuracy!"
   ]
  },
  {
   "cell_type": "code",
   "execution_count": null,
   "metadata": {
    "id": "-I4RYyPLthiT",
    "tags": [
     "otter_answer_cell"
    ]
   },
   "outputs": [],
   "source": [
    "def bayesian_poiss(data, CI = 0.68, plot=True, **Prior):\n",
    "    \"\"\"\n",
    "    params: \n",
    "        data: list or 1D np.ndarray of data.\n",
    "        CI: Confidence interval for lower to upper bound, defaults to 0.68\n",
    "        plot: whether to plot the figure. Do not change\n",
    "        Prior: Allows an input for a prior.\n",
    "    \n",
    "    returns: ([lambda lower bound (float), lambda max (float), lambda upper bound (float)], \n",
    "              np.array(lambda, P(lambda)) (N x 2 ndarray))\n",
    "    lambda max here denotes the lambda at which P(lambda | data) is maximized.\n",
    "    The plot should plot P(lambda | data) as well as shade the range between lambda lower bound and lambda upper bound\n",
    "    \"\"\"\n",
    "\n",
    "...\n",
    "    \n",
    "###############################################################################\n",
    "#####the ploting part##########################################################\n",
    "\n",
    "\n",
    "    if plot:\n",
    "        plt.figure(figsize=(8,6))\n",
    "        \n",
    "        ...\n",
    "        plt.show()\n",
    "\n",
    "    ...\n",
    "    return ..."
   ]
  },
  {
   "cell_type": "code",
   "execution_count": null,
   "metadata": {
    "tags": [
     "otter_answer_cell"
    ]
   },
   "outputs": [],
   "source": [
    "data = [4,2,8,6,5,4]\n",
    "bayesian_poiss(data)"
   ]
  },
  {
   "cell_type": "code",
   "execution_count": null,
   "metadata": {
    "deletable": false,
    "editable": false
   },
   "outputs": [],
   "source": [
    "grader.check(\"q1.1\")"
   ]
  },
  {
   "cell_type": "markdown",
   "metadata": {
    "id": "IIQjRZ7othia"
   },
   "source": [
    "***"
   ]
  },
  {
   "attachments": {
    "d047a807-f45d-4317-b0c4-70594658808b.png": {
     "image/png": "[encoded data removed]"
    }
   },
   "cell_type": "markdown",
   "metadata": {
    "deletable": false,
    "editable": false
   },
   "source": [
    "<!-- BEGIN QUESTION -->\n",
    "\n",
    "#### Problem 2 - False Positive Rate\n",
    "\n",
    "2.1) For a given standard frequentist test you have a chance $\\rho$ to recieve a false positive result (aka p-value). Imagine you run the same test many times on the same kind of data, but for different data points; for example checking if an absorption feature is significantly pressent in different stellar spectra (see figure below).<br>\n",
    "<br>\n",
    "![image.png](attachment:d047a807-f45d-4317-b0c4-70594658808b.png)"
   ]
  },
  {
   "cell_type": "markdown",
   "metadata": {
    "deletable": false,
    "editable": false
   },
   "source": [
    "For each spectrum, you calculate the corresponding p-value.<br> \n",
    "<br>\n",
    " - Given $H_0$ is always true (no absorption feature), what would a **histogram** of these p-values look like?<br>\n",
    " - Given $H_0$ is **not always** true, what would a **histogram** of these p-values look like?<br>"
   ]
  },
  {
   "cell_type": "markdown",
   "metadata": {
    "tags": [
     "otter_answer_cell"
    ]
   },
   "source": [
    "_Type your answer here, replacing this text._"
   ]
  },
  {
   "cell_type": "markdown",
   "metadata": {
    "deletable": false,
    "editable": false
   },
   "source": [
    "<!-- END QUESTION -->\n",
    "\n",
    "<br>"
   ]
  },
  {
   "cell_type": "markdown",
   "metadata": {
    "deletable": false,
    "editable": false
   },
   "source": [
    "2.2) What is the probability $P$ to have **at least** $n$ false positives after $N$ tests, given $\\rho$? Write a python script that generates a plot of $P$ as a function of $N$ depending on $n$ and $\\rho$. The variables $N$, $n$ and $\\rho$ should be the input arguments of this function. "
   ]
  },
  {
   "cell_type": "code",
   "execution_count": null,
   "metadata": {
    "tags": [
     "otter_answer_cell"
    ]
   },
   "outputs": [],
   "source": [
    "from scipy.stats import binom\n",
    "\n",
    "def FalsePositive(N: int = 10, n: int = 1, rho: float = 0.05, plot: bool = True):\n",
    "    \"\"\"\n",
    "    \n",
    "    returns: \n",
    "        P_at_least (float): The probability described in the question statement. \n",
    "        \n",
    "    \"\"\"\n",
    "\n",
    "    ...\n",
    "    if plot:\n",
    "        plt.figure(figsize=(8,6))\n",
    "        ...\n",
    "        plt.show()\n",
    "\n",
    "    return P_at_least"
   ]
  },
  {
   "cell_type": "code",
   "execution_count": null,
   "metadata": {
    "tags": [
     "otter_answer_cell"
    ]
   },
   "outputs": [],
   "source": [
    "P = FalsePositive(N = 20, n = 2, rho = 0.1)"
   ]
  },
  {
   "cell_type": "code",
   "execution_count": null,
   "metadata": {
    "deletable": false,
    "editable": false
   },
   "outputs": [],
   "source": [
    "grader.check(\"q2.2\")"
   ]
  },
  {
   "cell_type": "markdown",
   "metadata": {
    "deletable": false,
    "editable": false,
    "id": "zgOC7HG8mqEv"
   },
   "source": [
    "<!-- BEGIN QUESTION -->\n",
    "\n",
    "#### Problem 3 - Fitting Data to a Straight Line (Linear Regression)\n",
    "\n",
    "(Reference - NR 15.2) We fit a set of 50 data points $(x_i, y_i)$ to a straight-line model $y(x) = a + bx$. The uncertainty $\\sigma_i$ associated with each measurement $y_i$ is known, and we assume that the $x_i$'s are known exactly. To measure how well the model agrees with the data, we use the chi-square merti function: <br>\n",
    "$$ \\chi^2(a,b) = \\sum_{i=0}^{N-1} \\big( \\frac{y_i-a-bx_i}{\\sigma_i} \\big)^2. $$\n",
    "<br>\n",
    "Make a scatter plot of data (including uncertainties) and find the best-fit line. Compute the errors on the two parameters $a$ and $b$ and plot lines where the two are changed by $\\pm 1\\sigma$."
   ]
  },
  {
   "cell_type": "markdown",
   "metadata": {
    "deletable": false,
    "editable": false,
    "id": "3Ley2squmqEv"
   },
   "source": [
    "<br>\n",
    "<span style=\"color:blue\"> <i> 1. Plot data (make sure to include error bars). (Hint - https://matplotlib.org/api/_as_gen/matplotlib.axes.Axes.errorbar.html) </i></span><br>"
   ]
  },
  {
   "cell_type": "code",
   "execution_count": null,
   "metadata": {
    "executionInfo": {
     "elapsed": 613,
     "status": "ok",
     "timestamp": 1725678645554,
     "user": {
      "displayName": "Henry Liu",
      "userId": "02481607702682765299"
     },
     "user_tz": 420
    },
    "id": "NFFzZHEhmqEw",
    "tags": [
     "otter_answer_cell"
    ]
   },
   "outputs": [],
   "source": [
    "# Load a given 2D data\n",
    "data = np.loadtxt(\"./Problem3_data.dat\")\n",
    "x = data[:,0]\n",
    "y = data[:,1] \n",
    "sig_y = data[:,2]"
   ]
  },
  {
   "cell_type": "code",
   "execution_count": null,
   "metadata": {
    "colab": {
     "base_uri": "https://localhost:8080/",
     "height": 619
    },
    "executionInfo": {
     "elapsed": 958,
     "status": "ok",
     "timestamp": 1725678648659,
     "user": {
      "displayName": "Henry Liu",
      "userId": "02481607702682765299"
     },
     "user_tz": 420
    },
    "id": "a4zL0OxemqEw",
    "outputId": "67b16482-980c-473f-e801-180e98516df8",
    "tags": [
     "otter_answer_cell"
    ]
   },
   "outputs": [],
   "source": [
    "# Make plot\n",
    "plt.figure(figsize = (8, 6))\n",
    "\n",
    "# Scatter plot with errorbars:\n",
    "...\n",
    "\n",
    "plt.xlabel('$x$')\n",
    "plt.ylabel('$y$')\n",
    "plt.show()"
   ]
  },
  {
   "cell_type": "markdown",
   "metadata": {
    "deletable": false,
    "editable": false,
    "id": "7oYQlrB3mqEw"
   },
   "source": [
    "<!-- END QUESTION -->\n",
    "\n",
    "(NR p. 781) We should minimize the above chi-square function to determine $a$ and $b$. At its minimum, derivatives of $\\chi^2$ with respect to $a, b$ vanish:\n",
    "$$ \\frac{\\partial{\\chi^2}}{\\partial{a}} = -2 \\sum \\frac{y_i - a - bx_i}{\\sigma_i^2} = 0 \\ \\ \\ \\ \\ \\ \\ \\ \\ \\ \\ \\ (1) $$\n",
    "$$ \\frac{\\partial{\\chi^2}}{\\partial{b}} = -2 \\sum \\frac{x_i(y_i - a - bx_i)}{\\sigma_i^2} = 0   \\ \\ \\ \\ \\ \\ \\ \\ \\ (2) $$\n",
    "<br>\n",
    "These conditions can be rewritten in a convenient form if we define the following sums:\n",
    "$$ S = \\sum \\frac{1}{\\sigma_i^2},\\ S_x = \\sum \\frac{x_i}{\\sigma_i^2},\\ S_y = \\sum \\frac{y_i}\n",
    "{\\sigma_i^2} $$\n",
    "$$ S_{xx} = \\sum \\frac{x_i^2}{\\sigma_i^2},\\ S_{xy} = \\sum \\frac{x_iy_i}{\\sigma_i^2} $$\n",
    "<br> With these, we can rewrite (1), (2) as:\n",
    "$$ a*S + b*S_x = S_y $$\n",
    "$$ a*S_x + b*S_{xx} = S_{xy} $$\n",
    "<br> The solution to these is calculated as:\n",
    "$$ \\Delta = SS_{xx} - (S_x)^2 $$ <br>\n",
    "$$ a = \\frac{S_{xx}S_y - S_xS_{xy}}{\\Delta} $$\n",
    "$$ b = \\frac{SS_{xy} - S_xS_y}{\\Delta} $$\n",
    "<br><span style=\"color:blue\"><i> 2. Find parameters $a, b$ which minimize the chi-square function and plot the best-fit line on top of the data. </i></span><br>"
   ]
  },
  {
   "cell_type": "code",
   "execution_count": null,
   "metadata": {
    "executionInfo": {
     "elapsed": 183,
     "status": "ok",
     "timestamp": 1725678651458,
     "user": {
      "displayName": "Henry Liu",
      "userId": "02481607702682765299"
     },
     "user_tz": 420
    },
    "id": "xXKSmbpjmqEw",
    "tags": [
     "otter_answer_cell"
    ]
   },
   "outputs": [],
   "source": [
    "\n",
    "S = ...\n",
    "Sx = ...\n",
    "Sy = ...\n",
    "Sxx = ...\n",
    "Sxy = ...\n",
    "Delta = ..."
   ]
  },
  {
   "cell_type": "code",
   "execution_count": null,
   "metadata": {
    "executionInfo": {
     "elapsed": 2,
     "status": "ok",
     "timestamp": 1725678651667,
     "user": {
      "displayName": "Henry Liu",
      "userId": "02481607702682765299"
     },
     "user_tz": 420
    },
    "id": "kVKHeoMRmqEw",
    "tags": [
     "otter_answer_cell"
    ]
   },
   "outputs": [],
   "source": [
    "def A_(x, y, sig_y):\n",
    "    # Write your definition for a here, this is required for the autograder\n",
    "    return ...\n",
    "\n",
    "def B_(x, y, sig_y):\n",
    "    # Write your definition for b here, this is required for the autograder\n",
    "    return ...\n",
    "\n",
    "a = A_(x, y, sig_y)\n",
    "b = B_(x, y, sig_y)\n",
    "\n",
    "..."
   ]
  },
  {
   "cell_type": "code",
   "execution_count": null,
   "metadata": {
    "colab": {
     "base_uri": "https://localhost:8080/",
     "height": 619
    },
    "executionInfo": {
     "elapsed": 451,
     "status": "ok",
     "timestamp": 1725678652496,
     "user": {
      "displayName": "Henry Liu",
      "userId": "02481607702682765299"
     },
     "user_tz": 420
    },
    "id": "C1fv82zsmqEw",
    "outputId": "e1d34243-e817-4402-da06-48785d4a3a6a",
    "tags": [
     "otter_answer_cell"
    ]
   },
   "outputs": [],
   "source": [
    "# Make plot\n",
    "plt.figure(figsize = (8, 6))\n",
    "...\n",
    "plt.show()"
   ]
  },
  {
   "cell_type": "code",
   "execution_count": null,
   "metadata": {
    "deletable": false,
    "editable": false
   },
   "outputs": [],
   "source": [
    "grader.check(\"q3.2\")"
   ]
  },
  {
   "cell_type": "markdown",
   "metadata": {
    "deletable": false,
    "editable": false,
    "id": "vH36aZSBmqEx"
   },
   "source": [
    "Now, we must estimate the probable uncertainties in the estimates of $a$ and $b$, since obviously the measurement errors in the data must introduce some uncertainty in the determination of those parameters. If the data are independent, then each contributes its own bit of uncertainty to the parameters. Consideration of propagation of errors show that the variance $\\sigma_f^2$ in the value of any function will be\n",
    "$$ \\sigma_f^2 = \\sum \\sigma_i^2 (\\frac{\\partial f}{\\partial y_i})^2 $$\n",
    "<br> For the straight line, the derivatives of $a$ and $b$ with respect to $y_i$ can be directly evaluated from the solution:\n",
    "$$ \\frac{\\partial a}{\\partial y_i} = \\frac{S_{xx}-S_x x_i}{\\sigma_i^2 \\Delta} $$\n",
    "$$ \\frac{\\partial b}{\\partial y_i} = \\frac{S x_i-S_x}{\\sigma_i^2 \\Delta} $$\n",
    "<br> Summing over the points, we get\n",
    "$$ \\sigma_a^2 = S_{xx}/\\Delta $$\n",
    "$$ \\sigma_b^2 = S/\\Delta $$\n",
    "\n",
    "<span style=\"color:blue\"> <i> 3. Compute the errors ($\\sigma_a, \\sigma_b$) on the two parameters $a, b$ and plot lines where the two are changed by $\\pm 1\\sigma$.</i></span><br>\n",
    "(Hint - You can use plt.fill_between to shade the region between plots.)"
   ]
  },
  {
   "cell_type": "code",
   "execution_count": null,
   "metadata": {
    "colab": {
     "base_uri": "https://localhost:8080/"
    },
    "executionInfo": {
     "elapsed": 187,
     "status": "ok",
     "timestamp": 1725678654466,
     "user": {
      "displayName": "Henry Liu",
      "userId": "02481607702682765299"
     },
     "user_tz": 420
    },
    "id": "nsbVT7ThmqEx",
    "outputId": "964299e0-5bbd-42af-808b-a22dcd93393a",
    "tags": [
     "otter_answer_cell"
    ]
   },
   "outputs": [],
   "source": [
    "# Calculate sigma_a, sigma_b\n",
    "\n",
    "\n",
    "sigma_a = ...\n",
    "sigma_b = ...\n",
    "\n",
    "print('We estimate that a =', a ,\"±\", sigma_a, \"and b =\", b, \"±\", sigma_b)"
   ]
  },
  {
   "cell_type": "code",
   "execution_count": null,
   "metadata": {
    "colab": {
     "base_uri": "https://localhost:8080/",
     "height": 619
    },
    "executionInfo": {
     "elapsed": 407,
     "status": "ok",
     "timestamp": 1725678655097,
     "user": {
      "displayName": "Henry Liu",
      "userId": "02481607702682765299"
     },
     "user_tz": 420
    },
    "id": "-3qvIxRSmqEx",
    "outputId": "51fea181-e8e3-4eeb-c51a-58a5a8a4b782",
    "tags": [
     "otter_answer_cell"
    ]
   },
   "outputs": [],
   "source": [
    "plt.figure(figsize = (8, 6))\n",
    "\n",
    "...\n",
    "plt.xlabel('$x$')\n",
    "plt.ylabel('$y$')\n",
    "plt.xlim(-30, 40)\n",
    "plt.legend()\n",
    "plt.show()"
   ]
  },
  {
   "cell_type": "code",
   "execution_count": null,
   "metadata": {
    "deletable": false,
    "editable": false
   },
   "outputs": [],
   "source": [
    "grader.check(\"q3.3\")"
   ]
  },
  {
   "cell_type": "markdown",
   "metadata": {
    "deletable": false,
    "editable": false,
    "id": "n1pKHpAkmqEr"
   },
   "source": [
    "#### Problem 4 - Central Limit Theorem\n",
    "\n",
    "Plot the binomial distribution $P(N_A, N)$ for different values of $N$ and plot the Gaussian with mean and variance for the binomial. Similarly, plot the Poisson distribution with the mean varying from 1 to 10. See if both binomial and Poisson approach Gaussian as the mean/$N$ increases.<br><br>\n",
    "(Reference - Kardar p. 41) For the binomial distribution, consider a random variable with two outcomes $A$ and $B$ of relative probabilities $p_A$ and $p_B = 1 - p_A$. The probability that in $N$ trials the event $A$ occurs exactly $N_A$ times is given by the binomial distribution:\n",
    "$$ p_N(N_A) = \\binom{N}{N_A} p_A^{N_A}(1-p_A)^{N-N_A}. $$\n",
    "<br>\n",
    "<span style=\"color:blue\"> <i> 1. Plot the binomial distribution $P(N_A, N)$ for $N = 5, 20, 40, 100, 300$ and plot the Gaussian with mean and variance for the binomial. Let $p_A = 0.5$ and $0.1$. Make sure to label each plot.  </i></span>"
   ]
  },
  {
   "cell_type": "code",
   "execution_count": null,
   "metadata": {
    "executionInfo": {
     "elapsed": 201,
     "status": "ok",
     "timestamp": 1725678630625,
     "user": {
      "displayName": "Henry Liu",
      "userId": "02481607702682765299"
     },
     "user_tz": 420
    },
    "id": "6ZzlEi0zmqEs",
    "tags": [
     "otter_answer_cell"
    ]
   },
   "outputs": [],
   "source": [
    "# Import packages for the bionomial coefficient\n",
    "from scipy.special import binom\n",
    "\n",
    "# Define the probability for the binomial distribution\n",
    "def pdf_binom(p_A, N, N_A):\n",
    "    ...\n",
    "\n",
    "# Define Gaussian distribution\n",
    "def gaussian(x, mu, sigma):\n",
    "    ..."
   ]
  },
  {
   "cell_type": "code",
   "execution_count": null,
   "metadata": {
    "colab": {
     "base_uri": "https://localhost:8080/",
     "height": 1000
    },
    "executionInfo": {
     "elapsed": 1131,
     "status": "ok",
     "timestamp": 1725678631983,
     "user": {
      "displayName": "Henry Liu",
      "userId": "02481607702682765299"
     },
     "user_tz": 420
    },
    "id": "JwPF82gTmqEt",
    "outputId": "d7358e32-b13b-47ba-c84a-5b77aeeb5e17",
    "tags": [
     "otter_answer_cell"
    ]
   },
   "outputs": [],
   "source": [
    "N = [5, 20, 40, 100, 300]\n",
    "N_A = np.linspace(0, 40, 1000)\n",
    "\n",
    "# Make plot\n",
    "plt.figure(figsize= (8, 5))\n",
    "\n",
    "# For p_A = 0.1\n",
    "p_A = 0.1\n",
    "...\n",
    "plt.xlim(0, 40)\n",
    "plt.ylim(0, 0.6)\n",
    "plt.xlabel('$N_A$')\n",
    "plt.ylabel('$P(N_A, N)$')\n",
    "plt.legend()\n",
    "plt.title('$p_A = 0.1$')\n",
    "plt.tight_layout()\n",
    "plt.show()\n",
    "\n",
    "N_A = np.linspace(0, 70, 1000)\n",
    "plt.figure(figsize= (8, 5))\n",
    "# For p_A = 0.5\n",
    "p_A = 0.5\n",
    "...\n",
    "plt.xlim(0, 70)\n",
    "plt.ylim(0, 0.4)\n",
    "plt.xlabel('$N_A$')\n",
    "plt.ylabel('$P(N_A, N)$')\n",
    "plt.legend()\n",
    "plt.title('$p_A = 0.5$')\n",
    "plt.tight_layout()\n",
    "plt.show()"
   ]
  },
  {
   "cell_type": "code",
   "execution_count": null,
   "metadata": {
    "deletable": false,
    "editable": false
   },
   "outputs": [],
   "source": [
    "grader.check(\"q4.1\")"
   ]
  },
  {
   "cell_type": "markdown",
   "metadata": {
    "deletable": false,
    "editable": false,
    "id": "4arQH_UImqEt"
   },
   "source": [
    "<!-- BEGIN QUESTION -->\n",
    "\n",
    "In class, we find that the binomial distribution is approximately normal (with mean $Np_A$ and variance $Np_A(1-p_A)$) as $N \\rightarrow \\infty$, by the central limit theorem. The proof of this theorem can be carried out using Stirling's approximation:\n",
    "$$ N! \\approx N^N e^{-N}\\sqrt{2\\pi N} $$\n",
    "<br>\n",
    "<span style=\"color:blue\"><i> 2. Plot the above Stirling's formula approximation (i.e. Compare $N!$ with Stirling's approximation. Compute the residual: (actual-estimate)/actual.) </i></span><br>\n",
    "(Hint: $\\Gamma(n+1) = n!$)\n"
   ]
  },
  {
   "cell_type": "code",
   "execution_count": null,
   "metadata": {
    "colab": {
     "base_uri": "https://localhost:8080/",
     "height": 449
    },
    "executionInfo": {
     "elapsed": 611,
     "status": "ok",
     "timestamp": 1725678633957,
     "user": {
      "displayName": "Henry Liu",
      "userId": "02481607702682765299"
     },
     "user_tz": 420
    },
    "id": "uhswZyc6mqEu",
    "outputId": "f982ddbc-33ee-4a71-9860-57a38f6526b1",
    "tags": [
     "otter_answer_cell"
    ]
   },
   "outputs": [],
   "source": [
    "from scipy.special import gamma\n",
    "\n",
    "Nvals = np.linspace(1, 40, 1000)\n",
    "\n",
    "actual = ...\n",
    "estimate = ...\n",
    "\n",
    "plt.plot(Nvals, (actual-estimate)/actual)\n",
    "plt.xlabel('$N$')\n",
    "plt.ylabel('residual')\n",
    "plt.show()"
   ]
  },
  {
   "cell_type": "markdown",
   "metadata": {
    "deletable": false,
    "editable": false,
    "id": "aiX9kbBdmqEu"
   },
   "source": [
    "<!-- END QUESTION -->\n",
    "\n",
    "You should find that residual $\\rightarrow 0$ as $N \\rightarrow \\infty$."
   ]
  },
  {
   "cell_type": "markdown",
   "metadata": {
    "deletable": false,
    "editable": false,
    "id": "cjsx0MvymqEu"
   },
   "source": [
    "Next, consider the Poisson distribution (Kardar p. 42):\n",
    "$$ P(\\lambda) = \\frac{\\lambda^k e^{-\\lambda}}{k!} $$\n",
    "where $k$ is the number of occurrences. Its mean and variance are $\\lambda$.<br><br>\n",
    "<span style=\"color:blue\"> <i> 3. Plot $P(\\lambda)$ as a function of $k$ for $\\lambda = 1, 3, 5, 10, 20$ and plot the Gaussian with mean and variance for the Poisson. Make sure to label. </i></span><br>"
   ]
  },
  {
   "cell_type": "code",
   "execution_count": null,
   "metadata": {
    "colab": {
     "base_uri": "https://localhost:8080/",
     "height": 702
    },
    "executionInfo": {
     "elapsed": 902,
     "status": "ok",
     "timestamp": 1725678636795,
     "user": {
      "displayName": "Henry Liu",
      "userId": "02481607702682765299"
     },
     "user_tz": 420
    },
    "id": "riEPvP3imqEu",
    "outputId": "43fbce2d-a201-4f64-94ab-783f3afdf14d",
    "tags": [
     "otter_answer_cell"
    ]
   },
   "outputs": [],
   "source": [
    "from scipy.special import gamma\n",
    "# Define the Poisson distribution\n",
    "def poisson(L, k):\n",
    "    ...\n",
    "\n",
    "L = [1, 3, 5, 10, 20]\n",
    "k = np.linspace(0, 30, 1000)\n",
    "\n",
    "# Make plot\n",
    "plt.figure(figsize= (8, 6))\n",
    "...\n",
    "plt.show()"
   ]
  },
  {
   "cell_type": "code",
   "execution_count": null,
   "metadata": {
    "deletable": false,
    "editable": false
   },
   "outputs": [],
   "source": [
    "grader.check(\"q4.3\")"
   ]
  },
  {
   "cell_type": "markdown",
   "metadata": {
    "deletable": false,
    "editable": false,
    "id": "5NUXkUxOmqEv"
   },
   "source": [
    "<!-- BEGIN QUESTION -->\n",
    "\n",
    "<span style=\"color:blue\"> <i> 4. What happens as the mean/$N$ increases? </i></span><br>"
   ]
  },
  {
   "cell_type": "markdown",
   "metadata": {
    "tags": [
     "otter_answer_cell"
    ]
   },
   "source": [
    "_Type your answer here, replacing this text._"
   ]
  },
  {
   "cell_type": "markdown",
   "metadata": {
    "deletable": false,
    "editable": false
   },
   "source": [
    "<!-- END QUESTION -->\n",
    "\n"
   ]
  },
  {
   "cell_type": "markdown",
   "metadata": {
    "deletable": false,
    "editable": false
   },
   "source": [
    "## Submission\n",
    "\n",
    "Make sure you have run all cells in your notebook in order before running the cell below, so that all images/graphs appear in the output. The cell below will generate a zip file for you to submit.\n",
    "\n",
    "Upload the .zip file to gradescope!"
   ]
  },
  {
   "cell_type": "code",
   "execution_count": null,
   "metadata": {
    "deletable": false,
    "editable": false
   },
   "outputs": [],
   "source": [
    "grader.export(force_save=True, run_tests=True)"
   ]
  },
  {
   "cell_type": "markdown",
   "metadata": {},
   "source": [
    " "
   ]
  }
 ],
 "metadata": {
  "colab": {
   "provenance": []
  },
  "kernelspec": {
   "display_name": "Python 3 (ipykernel)",
   "language": "python",
   "name": "python3"
  },
  "language_info": {
   "codemirror_mode": {
    "name": "ipython",
    "version": 3
   },
   "file_extension": ".py",
   "mimetype": "text/x-python",
   "name": "python",
   "nbconvert_exporter": "python",
   "pygments_lexer": "ipython3",
   "version": "3.11.13"
  },
  "otter": {
   "OK_FORMAT": true,
   "assignment_name": "p188_288_hw2",
   "tests": {
    "q1.1": {
     "name": "q1.1",
     "points": 10,
     "suites": [
      {
       "cases": [
        {
         "code": ">>> [Lams, _] = bayesian_poiss([4, 2, 3, 5, 4], plot=False)\n>>> np.isclose(Lams[1], 3.5998599859985996, rtol=0.01, atol=0.01)\nnp.True_",
         "hidden": false,
         "locked": false
        },
        {
         "code": ">>> [Lams, _] = bayesian_poiss([1, 0, 1, 0, 0], plot=False)\n>>> np.isclose(Lams[1], 0.39973997399739974, rtol=0.01, atol=0.01)\nnp.True_",
         "hidden": false,
         "locked": false
        }
       ],
       "scored": true,
       "setup": "",
       "teardown": "",
       "type": "doctest"
      }
     ]
    },
    "q2.2": {
     "name": "q2.2",
     "points": 5,
     "suites": [
      {
       "cases": [
        {
         "code": ">>> Ptest = FalsePositive(N=20, n=2, rho=0.1, plot=False)\n>>> P = [0.01, 0.028, 0.0523, 0.08146, 0.114265, 0.1496944, 0.18689527, 0.22515902, 0.26390107, 0.30264312, 0.34099775, 0.37865502, 0.41537086, 0.45095698, 0.48527217, 0.51821475, 0.54971609, 0.57973502, 0.608253]\n>>> np.all(np.isclose(Ptest, P, rtol=0.0001, atol=0.0001))\nnp.True_",
         "hidden": false,
         "locked": false
        }
       ],
       "scored": true,
       "setup": "",
       "teardown": "",
       "type": "doctest"
      }
     ]
    },
    "q3.2": {
     "name": "q3.2",
     "points": 3,
     "suites": [
      {
       "cases": [
        {
         "code": ">>> data = np.loadtxt('./Problem3_data.dat')\n>>> x = data[:, 0]\n>>> y = data[:, 1]\n>>> sig_y = data[:, 2]\n>>> np.isclose(A_(x, y, sig_y), -0.5952309466393884, rtol=0.001, atol=0.001)\nnp.True_",
         "hidden": false,
         "locked": false
        },
        {
         "code": ">>> data = np.loadtxt('./Problem3_data.dat')\n>>> x = data[:, 0]\n>>> y = data[:, 1]\n>>> sig_y = data[:, 2]\n>>> np.isclose(B_(x, y, sig_y), 1.77469658755297, rtol=0.001, atol=0.001)\nnp.True_",
         "hidden": false,
         "locked": false
        }
       ],
       "scored": true,
       "setup": "",
       "teardown": "",
       "type": "doctest"
      }
     ]
    },
    "q3.3": {
     "name": "q3.3",
     "points": 3,
     "suites": [
      {
       "cases": [
        {
         "code": ">>> np.isclose(sigma_a, 0.752865780441323, rtol=0.001, atol=0.001)\nnp.True_",
         "hidden": false,
         "locked": false
        },
        {
         "code": ">>> np.isclose(sigma_b, 0.036240121236055294, rtol=0.001, atol=0.001)\nnp.True_",
         "hidden": false,
         "locked": false
        }
       ],
       "scored": true,
       "setup": "",
       "teardown": "",
       "type": "doctest"
      }
     ]
    },
    "q4.1": {
     "name": "q4.1",
     "points": 3,
     "suites": [
      {
       "cases": [
        {
         "code": ">>> np.isclose(pdf_binom(0.3, 100, 32), 0.07761057029360387, rtol=0.001, atol=0.001)\nnp.True_",
         "hidden": false,
         "locked": false
        },
        {
         "code": ">>> np.isclose(pdf_binom(0.4, 40, 20), 0.055414149064988996, rtol=0.001, atol=0.001)\nnp.True_",
         "hidden": false,
         "locked": false
        },
        {
         "code": ">>> np.isclose(gaussian(1, 0, 1), 0.24197072451914337, rtol=0.001, atol=0.001)\nnp.True_",
         "hidden": false,
         "locked": false
        },
        {
         "code": ">>> np.isclose(gaussian(2, 1, 0.5), 0.1079819330263761, rtol=0.001, atol=0.001)\nnp.True_",
         "hidden": false,
         "locked": false
        }
       ],
       "scored": true,
       "setup": "",
       "teardown": "",
       "type": "doctest"
      }
     ]
    },
    "q4.3": {
     "name": "q4.3",
     "points": 3,
     "suites": [
      {
       "cases": [
        {
         "code": ">>> np.isclose(poisson(1, 3), 0.0613132401952404, rtol=0.001, atol=0.001)\nnp.True_",
         "hidden": false,
         "locked": false
        },
        {
         "code": ">>> np.isclose(poisson(2, 0), 0.13533528323661267, rtol=0.001, atol=0.001)\nnp.True_",
         "hidden": false,
         "locked": false
        }
       ],
       "scored": true,
       "setup": "",
       "teardown": "",
       "type": "doctest"
      }
     ]
    }
   }
  }
 },
 "nbformat": 4,
 "nbformat_minor": 4
}
